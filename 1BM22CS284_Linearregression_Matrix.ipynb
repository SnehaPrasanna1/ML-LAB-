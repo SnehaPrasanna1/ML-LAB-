{
  "nbformat": 4,
  "nbformat_minor": 0,
  "metadata": {
    "colab": {
      "provenance": [],
      "authorship_tag": "ABX9TyMkfgwBIcXwXTORNxaC0B1X",
      "include_colab_link": true
    },
    "kernelspec": {
      "name": "python3",
      "display_name": "Python 3"
    },
    "language_info": {
      "name": "python"
    }
  },
  "cells": [
    {
      "cell_type": "markdown",
      "metadata": {
        "id": "view-in-github",
        "colab_type": "text"
      },
      "source": [
        "<a href=\"https://colab.research.google.com/github/SnehaPrasanna1/ML-LAB-/blob/main/1BM22CS284_Linearregression_Matrix.ipynb\" target=\"_parent\"><img src=\"https://colab.research.google.com/assets/colab-badge.svg\" alt=\"Open In Colab\"/></a>"
      ]
    },
    {
      "cell_type": "code",
      "execution_count": 5,
      "metadata": {
        "colab": {
          "base_uri": "https://localhost:8080/"
        },
        "id": "YoDRNu9YErVk",
        "outputId": "91f181a3-d64a-4451-eac5-2c1437535fc6"
      },
      "outputs": [
        {
          "output_type": "stream",
          "name": "stdout",
          "text": [
            "   X  Y\n",
            "0  1  1\n",
            "1  2  3\n",
            "2  3  4\n",
            "3  4  8\n",
            "[[1]\n",
            " [2]\n",
            " [3]\n",
            " [4]]\n",
            "[[1]\n",
            " [3]\n",
            " [4]\n",
            " [8]]\n"
          ]
        }
      ],
      "source": [
        "import pandas as pd\n",
        "df={\n",
        "    'X':[1,2,3,4],\n",
        "    'Y':[1,3,4,8]\n",
        "}\n",
        "data=pd.DataFrame(df)\n",
        "print(data)\n",
        "X=np.array(df['X']).reshape(-1,1)\n",
        "Y=np.array(df['Y']).reshape(-1,1)\n",
        "# X=df['X']\n",
        "# Y=\n",
        "print(X)\n",
        "print(Y)"
      ]
    },
    {
      "cell_type": "code",
      "source": [
        "import numpy as np\n",
        "X_transpose=np.transpose(X)\n",
        "print(X_transpose)"
      ],
      "metadata": {
        "colab": {
          "base_uri": "https://localhost:8080/"
        },
        "id": "NcSPWi2zFVqy",
        "outputId": "af1f8c4d-b779-4d9c-c657-6f7184ac4ab4"
      },
      "execution_count": 7,
      "outputs": [
        {
          "output_type": "stream",
          "name": "stdout",
          "text": [
            "[[1 2 3 4]]\n"
          ]
        }
      ]
    },
    {
      "source": [
        "import pandas as pd\n",
        "import numpy as np\n",
        "\n",
        "# Sample data (replace with your actual data if needed)\n",
        "df = {\n",
        "    'X': [1, 2, 3, 4],\n",
        "    'Y': [1, 3, 4, 8]\n",
        "}\n",
        "data = pd.DataFrame(df)\n",
        "\n",
        "# Reshape 'X' column into a column vector\n",
        "X = data['X'].to_numpy().reshape(-1, 1)\n",
        "\n",
        "# Add a column of 1s to the left\n",
        "X = np.concatenate([np.ones((X.shape[0], 1)), X], axis=1)\n",
        "\n",
        "# Print the modified array\n",
        "print(X)"
      ],
      "cell_type": "code",
      "metadata": {
        "colab": {
          "base_uri": "https://localhost:8080/"
        },
        "id": "sPyxYMYeGk0e",
        "outputId": "308b76af-4ac6-4838-84a9-b1a26bbec22a"
      },
      "execution_count": 8,
      "outputs": [
        {
          "output_type": "stream",
          "name": "stdout",
          "text": [
            "[[1. 1.]\n",
            " [1. 2.]\n",
            " [1. 3.]\n",
            " [1. 4.]]\n"
          ]
        }
      ]
    },
    {
      "source": [
        "import pandas as pd\n",
        "import numpy as np\n",
        "\n",
        "# Sample data (replace with your actual data if needed)\n",
        "df = {\n",
        "    'X': [1, 2, 3, 4],\n",
        "    'Y': [1, 3, 4, 8]\n",
        "}\n",
        "data = pd.DataFrame(df)\n",
        "\n",
        "# Reshape 'X' column into a column vector\n",
        "X = data['X'].to_numpy().reshape(-1, 1)\n",
        "\n",
        "# Add a column of 1s to the left\n",
        "X = np.concatenate([np.ones((X.shape[0], 1)), X], axis=1)\n",
        "\n",
        "# Calculate X transpose multiplied by X\n",
        "X_transpose = X.T  # Calculate the transpose of X\n",
        "XTX = np.dot(X_transpose, X)  # Perform the matrix multiplication\n",
        "\n",
        "# Print the result\n",
        "print(XTX)"
      ],
      "cell_type": "code",
      "metadata": {
        "colab": {
          "base_uri": "https://localhost:8080/"
        },
        "id": "9vZVUEHTHK1q",
        "outputId": "692c7714-ba6d-48ac-84b0-c9b17ad6692b"
      },
      "execution_count": 9,
      "outputs": [
        {
          "output_type": "stream",
          "name": "stdout",
          "text": [
            "[[ 4. 10.]\n",
            " [10. 30.]]\n"
          ]
        }
      ]
    },
    {
      "source": [
        "import pandas as pd\n",
        "import numpy as np\n",
        "\n",
        "# Sample data (replace with your actual data if needed)\n",
        "df = {\n",
        "    'X': [1, 2, 3, 4],\n",
        "    'Y': [1, 3, 4, 8]\n",
        "}\n",
        "data = pd.DataFrame(df)\n",
        "\n",
        "# Reshape 'X' column into a column vector\n",
        "X = data['X'].to_numpy().reshape(-1, 1)\n",
        "\n",
        "# Add a column of 1s to the left\n",
        "X = np.concatenate([np.ones((X.shape[0], 1)), X], axis=1)\n",
        "\n",
        "# Calculate X transpose multiplied by X\n",
        "X_transpose = X.T  # Calculate the transpose of X\n",
        "XTX = np.dot(X_transpose, X)  # Perform the matrix multiplication\n",
        "\n",
        "# Calculate the inverse of XTX\n",
        "XTX_inverse = np.linalg.inv(XTX)\n",
        "\n",
        "# Print the inverse\n",
        "print(XTX_inverse)"
      ],
      "cell_type": "code",
      "metadata": {
        "colab": {
          "base_uri": "https://localhost:8080/"
        },
        "id": "bCc8HnBHHXIY",
        "outputId": "8042cd94-7744-443b-b1c4-f7584f320c2f"
      },
      "execution_count": 10,
      "outputs": [
        {
          "output_type": "stream",
          "name": "stdout",
          "text": [
            "[[ 1.5 -0.5]\n",
            " [-0.5  0.2]]\n"
          ]
        }
      ]
    },
    {
      "source": [
        "import pandas as pd\n",
        "import numpy as np\n",
        "\n",
        "# Sample data (replace with your actual data if needed)\n",
        "df = {\n",
        "    'X': [1, 2, 3, 4],\n",
        "    'Y': [1, 3, 4, 8]\n",
        "}\n",
        "data = pd.DataFrame(df)\n",
        "\n",
        "# Reshape 'X' column into a column vector\n",
        "X = data['X'].to_numpy().reshape(-1, 1)\n",
        "\n",
        "# Add a column of 1s to the left\n",
        "X = np.concatenate([np.ones((X.shape[0], 1)), X], axis=1)\n",
        "\n",
        "# Calculate X transpose multiplied by X\n",
        "X_transpose = X.T  # Calculate the transpose of X\n",
        "XTX = np.dot(X_transpose, X)  # Perform the matrix multiplication\n",
        "\n",
        "# Calculate the inverse of XTX\n",
        "XTX_inverse = np.linalg.inv(XTX)\n",
        "\n",
        "# Multiply XTX_inverse with X_transpose\n",
        "result = np.dot(XTX_inverse, X_transpose)\n",
        "\n",
        "# Print the result\n",
        "print(result)"
      ],
      "cell_type": "code",
      "metadata": {
        "colab": {
          "base_uri": "https://localhost:8080/"
        },
        "id": "NMgeteohHuJ-",
        "outputId": "12debab1-8b54-459d-b1d0-b3c24284e4c5"
      },
      "execution_count": 11,
      "outputs": [
        {
          "output_type": "stream",
          "name": "stdout",
          "text": [
            "[[ 1.   0.5  0.  -0.5]\n",
            " [-0.3 -0.1  0.1  0.3]]\n"
          ]
        }
      ]
    },
    {
      "source": [
        "import pandas as pd\n",
        "import numpy as np\n",
        "\n",
        "# Sample data (replace with your actual data if needed)\n",
        "df = {\n",
        "    'X': [1, 2, 3, 4],\n",
        "    'Y': [1, 3, 4, 8]\n",
        "}\n",
        "data = pd.DataFrame(df)\n",
        "\n",
        "# Prepare X and Y\n",
        "X = data['X'].to_numpy().reshape(-1, 1)\n",
        "X = np.concatenate([np.ones((X.shape[0], 1)), X], axis=1)\n",
        "Y = data['Y'].to_numpy().reshape(-1, 1)  # Reshape Y to a column vector\n",
        "\n",
        "# Calculate (X^T * X)^-1 * X^T\n",
        "X_transpose = X.T\n",
        "XTX = np.dot(X_transpose, X)\n",
        "XTX_inverse = np.linalg.inv(XTX)\n",
        "result = np.dot(XTX_inverse, X_transpose)\n",
        "\n",
        "# Multiply with Y to get the coefficients\n",
        "coefficients = np.dot(result, Y)\n",
        "\n",
        "# Print the coefficients\n",
        "print(coefficients)"
      ],
      "cell_type": "code",
      "metadata": {
        "colab": {
          "base_uri": "https://localhost:8080/"
        },
        "id": "0CYk6KVdH3p0",
        "outputId": "48469a4e-9a0a-4101-8dda-544e86e3961f"
      },
      "execution_count": 12,
      "outputs": [
        {
          "output_type": "stream",
          "name": "stdout",
          "text": [
            "[[-1.5]\n",
            " [ 2.2]]\n"
          ]
        }
      ]
    },
    {
      "source": [
        "import pandas as pd\n",
        "import numpy as np\n",
        "\n",
        "# Sample data (replace with your actual data if needed)\n",
        "df = {\n",
        "    'X': [1, 2, 3, 4],\n",
        "    'Y': [1, 3, 4, 8]\n",
        "}\n",
        "data = pd.DataFrame(df)\n",
        "\n",
        "# Prepare X and Y\n",
        "X = data['X'].to_numpy().reshape(-1, 1)\n",
        "X = np.concatenate([np.ones((X.shape[0], 1)), X], axis=1)\n",
        "Y = data['Y'].to_numpy().reshape(-1, 1)  # Reshape Y to a column vector\n",
        "\n",
        "# Calculate (X^T * X)^-1 * X^T\n",
        "X_transpose = X.T\n",
        "XTX = np.dot(X_transpose, X)\n",
        "XTX_inverse = np.linalg.inv(XTX)\n",
        "result = np.dot(XTX_inverse, X_transpose)\n",
        "\n",
        "# Multiply with Y to get the coefficients and store in 'beta'\n",
        "beta = np.dot(result, Y)  # Changed variable name to 'beta'\n",
        "\n",
        "# Print the coefficients (now stored in 'beta')\n",
        "print(beta)"
      ],
      "cell_type": "code",
      "metadata": {
        "colab": {
          "base_uri": "https://localhost:8080/"
        },
        "id": "IePcJT_MIBvU",
        "outputId": "ca1a0fbe-f83e-4e2b-f270-8cefb517b0e6"
      },
      "execution_count": 14,
      "outputs": [
        {
          "output_type": "stream",
          "name": "stdout",
          "text": [
            "[[-1.5]\n",
            " [ 2.2]]\n"
          ]
        }
      ]
    },
    {
      "cell_type": "code",
      "source": [],
      "metadata": {
        "id": "9yAaeewwIC2z"
      },
      "execution_count": null,
      "outputs": []
    },
    {
      "source": [
        "import pandas as pd\n",
        "import numpy as np\n",
        "import matplotlib.pyplot as plt\n",
        "\n",
        "# Sample data (replace with your actual data if needed)\n",
        "df = {\n",
        "    'X': [1, 2, 3, 4],\n",
        "    'Y': [1, 3, 4, 8]\n",
        "}\n",
        "data = pd.DataFrame(df)\n",
        "\n",
        "# Prepare X and Y\n",
        "X = data['X'].to_numpy().reshape(-1, 1)\n",
        "X = np.concatenate([np.ones((X.shape[0], 1)), X], axis=1)\n",
        "Y = data['Y'].to_numpy().reshape(-1, 1)  # Reshape Y to a column vector\n",
        "\n",
        "# Calculate (X^T * X)^-1 * X^T\n",
        "X_transpose = X.T\n",
        "XTX = np.dot(X_transpose, X)\n",
        "XTX_inverse = np.linalg.inv(XTX)\n",
        "result = np.dot(XTX_inverse, X_transpose)\n",
        "\n",
        "# Multiply with Y to get the coefficients and store in 'beta'\n",
        "beta = np.dot(result, Y)  # Changed variable name to 'beta'\n",
        "\n",
        "# --- Writing the equation and plotting ---\n",
        "# Extract beta values\n",
        "beta0 = beta[0, 0]  # Intercept\n",
        "beta1 = beta[1, 0]  # Slope\n",
        "\n",
        "# Create the equation string\n",
        "equation = f'y = {beta0:.2f} + {beta1:.2f}x'\n",
        "\n",
        "# Generate points for the regression line\n",
        "x_values = np.linspace(data['X'].min(), data['X'].max(), 100)  # 100 points\n",
        "y_values = beta0 + beta1 * x_values\n",
        "\n",
        "# Plotting\n",
        "plt.scatter(data['X'], data['Y'], label='Data Points')  # Scatter plot of data\n",
        "plt.plot(x_values, y_values, color='red', label=equation)  # Regression line\n",
        "plt.xlabel('X')\n",
        "plt.ylabel('Y')\n",
        "plt.title('Linear Regression')\n",
        "plt.legend()\n",
        "plt.show()"
      ],
      "cell_type": "code",
      "metadata": {
        "colab": {
          "base_uri": "https://localhost:8080/",
          "height": 472
        },
        "id": "9PlGflUTIV0Y",
        "outputId": "d9fde659-9a73-4932-b6ab-9f289a249fae"
      },
      "execution_count": 15,
      "outputs": [
        {
          "output_type": "display_data",
          "data": {
            "text/plain": [
              "<Figure size 640x480 with 1 Axes>"
            ],
            "image/png": "[encoded data removed]"
          },
          "metadata": {}
        }
      ]
    }
  ]
}